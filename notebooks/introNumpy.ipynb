{
  "nbformat": 4,
  "nbformat_minor": 0,
  "metadata": {
    "colab": {
      "name": "introNumpy.ipynb",
      "version": "0.3.2",
      "provenance": [],
      "collapsed_sections": []
    },
    "kernelspec": {
      "name": "python3",
      "display_name": "Python 3"
    }
  },
  "cells": [
    {
      "metadata": {
        "id": "ADVs6bh4bzK8",
        "colab_type": "code",
        "colab": {
          "base_uri": "https://localhost:8080/",
          "height": 87
        },
        "outputId": "ae78dd93-56ae-479b-e2e8-7599f05b8d0d"
      },
      "cell_type": "code",
      "source": [
        "subjects = ['Math', 'Physics', 'English', 'Filipino']\n",
        "for subs in subjects:\n",
        "  print(subs)"
      ],
      "execution_count": 1,
      "outputs": [
        {
          "output_type": "stream",
          "text": [
            "Math\n",
            "Physics\n",
            "English\n",
            "Filipino\n"
          ],
          "name": "stdout"
        }
      ]
    },
    {
      "metadata": {
        "id": "BVYdUyiSfDE0",
        "colab_type": "code",
        "colab": {}
      },
      "cell_type": "code",
      "source": [
        ""
      ],
      "execution_count": 0,
      "outputs": []
    },
    {
      "metadata": {
        "id": "ApKhRSsWcgUA",
        "colab_type": "code",
        "colab": {
          "base_uri": "https://localhost:8080/",
          "height": 35
        },
        "outputId": "360398db-c27b-4e13-e507-f972d2ff08fe"
      },
      "cell_type": "code",
      "source": [
        "print(subjects[2])"
      ],
      "execution_count": 2,
      "outputs": [
        {
          "output_type": "stream",
          "text": [
            "English\n"
          ],
          "name": "stdout"
        }
      ]
    },
    {
      "metadata": {
        "id": "UJJ_Tvruco65",
        "colab_type": "code",
        "colab": {
          "base_uri": "https://localhost:8080/",
          "height": 35
        },
        "outputId": "1b7dbd3d-055f-4484-fb36-744259282e18"
      },
      "cell_type": "code",
      "source": [
        "subjects[1:]"
      ],
      "execution_count": 3,
      "outputs": [
        {
          "output_type": "execute_result",
          "data": {
            "text/plain": [
              "['Physics', 'English', 'Filipino']"
            ]
          },
          "metadata": {
            "tags": []
          },
          "execution_count": 3
        }
      ]
    },
    {
      "metadata": {
        "id": "5eKt5KhydGLX",
        "colab_type": "code",
        "colab": {
          "base_uri": "https://localhost:8080/",
          "height": 35
        },
        "outputId": "5c6745c1-2fbd-46aa-c78c-e6723bb02db0"
      },
      "cell_type": "code",
      "source": [
        "scientist = {'Name': 'Alan Turing', 'Field': 'Mathematics'}\n",
        "print('Name: ', scientist['Name'])"
      ],
      "execution_count": 4,
      "outputs": [
        {
          "output_type": "stream",
          "text": [
            "Name:  Alan Turing\n"
          ],
          "name": "stdout"
        }
      ]
    },
    {
      "metadata": {
        "id": "S9S7HEhIdYuC",
        "colab_type": "code",
        "colab": {
          "base_uri": "https://localhost:8080/",
          "height": 35
        },
        "outputId": "ee155f31-b0dc-4119-c45d-a20b7df03120"
      },
      "cell_type": "code",
      "source": [
        "scientist['Field'] = 'Mathematics, Computer Science, Biology'\n",
        "print(scientist)"
      ],
      "execution_count": 6,
      "outputs": [
        {
          "output_type": "stream",
          "text": [
            "{'Name': 'Alan Turing', 'Field': 'Mathematics, Computer Science, Biology'}\n"
          ],
          "name": "stdout"
        }
      ]
    },
    {
      "metadata": {
        "id": "4ECrmX7ldpq5",
        "colab_type": "code",
        "colab": {
          "base_uri": "https://localhost:8080/",
          "height": 35
        },
        "outputId": "855f3b97-ec9f-4c59-e4ba-970f6ac729cb"
      },
      "cell_type": "code",
      "source": [
        "scientist.keys()"
      ],
      "execution_count": 7,
      "outputs": [
        {
          "output_type": "execute_result",
          "data": {
            "text/plain": [
              "dict_keys(['Name', 'Field'])"
            ]
          },
          "metadata": {
            "tags": []
          },
          "execution_count": 7
        }
      ]
    },
    {
      "metadata": {
        "id": "QZlc1Vi9dxOR",
        "colab_type": "code",
        "colab": {
          "base_uri": "https://localhost:8080/",
          "height": 35
        },
        "outputId": "44ad27f6-399d-4ec1-d7bf-9c7a5fce56c4"
      },
      "cell_type": "code",
      "source": [
        "scientist.values()"
      ],
      "execution_count": 8,
      "outputs": [
        {
          "output_type": "execute_result",
          "data": {
            "text/plain": [
              "dict_values(['Alan Turing', 'Mathematics, Computer Science, Biology'])"
            ]
          },
          "metadata": {
            "tags": []
          },
          "execution_count": 8
        }
      ]
    },
    {
      "metadata": {
        "id": "uoTF1ysHd0_I",
        "colab_type": "code",
        "colab": {
          "base_uri": "https://localhost:8080/",
          "height": 35
        },
        "outputId": "c8b906d6-de74-44b0-cc7a-b5d120362f54"
      },
      "cell_type": "code",
      "source": [
        "if 'Mathematics' in subjects:\n",
        "  print('Mathematics in subject')\n",
        "elif 'Math' in subjects:\n",
        "  print('Yes, girl!')\n",
        "else:\n",
        "  print('No subject')"
      ],
      "execution_count": 10,
      "outputs": [
        {
          "output_type": "stream",
          "text": [
            "Yes, girl!\n"
          ],
          "name": "stdout"
        }
      ]
    },
    {
      "metadata": {
        "id": "P1-auzTHeYv5",
        "colab_type": "code",
        "colab": {
          "base_uri": "https://localhost:8080/",
          "height": 35
        },
        "outputId": "9e378906-a13c-478e-9879-88ce1e665e1d"
      },
      "cell_type": "code",
      "source": [
        "value = 0\n",
        "\n",
        "while True:\n",
        "  print('Hello!', end=' ')\n",
        "  if value == 3:\n",
        "    break\n",
        "  else:\n",
        "    value +=1"
      ],
      "execution_count": 14,
      "outputs": [
        {
          "output_type": "stream",
          "text": [
            "Hello! Hello! Hello! Hello! "
          ],
          "name": "stdout"
        }
      ]
    },
    {
      "metadata": {
        "id": "AG2NhwXbfFC9",
        "colab_type": "code",
        "colab": {
          "base_uri": "https://localhost:8080/",
          "height": 35
        },
        "outputId": "69593fa5-37be-4aa1-f807-c122c331852b"
      },
      "cell_type": "code",
      "source": [
        "import numpy as np\n",
        "\n",
        "\n",
        "x = np.array([1, 2, 3]) #vector\n",
        "print(x)"
      ],
      "execution_count": 25,
      "outputs": [
        {
          "output_type": "stream",
          "text": [
            "[1 2 3]\n"
          ],
          "name": "stdout"
        }
      ]
    },
    {
      "metadata": {
        "id": "FjBjhmAwgRVF",
        "colab_type": "code",
        "colab": {
          "base_uri": "https://localhost:8080/",
          "height": 52
        },
        "outputId": "d43c3f78-f480-48bc-f896-2095e0db652f"
      },
      "cell_type": "code",
      "source": [
        "a = np.zeros((2, 2))\n",
        "print(a)"
      ],
      "execution_count": 16,
      "outputs": [
        {
          "output_type": "stream",
          "text": [
            "[[0. 0.]\n",
            " [0. 0.]]\n"
          ],
          "name": "stdout"
        }
      ]
    },
    {
      "metadata": {
        "id": "TVZ6fowvgXtQ",
        "colab_type": "code",
        "colab": {
          "base_uri": "https://localhost:8080/",
          "height": 52
        },
        "outputId": "ece0f4f6-1b56-47bc-c8ed-3e02796d7673"
      },
      "cell_type": "code",
      "source": [
        "b = np.ones((2, 2))\n",
        "print(b)"
      ],
      "execution_count": 17,
      "outputs": [
        {
          "output_type": "stream",
          "text": [
            "[[1. 1.]\n",
            " [1. 1.]]\n"
          ],
          "name": "stdout"
        }
      ]
    },
    {
      "metadata": {
        "id": "nXdUAhd1geNm",
        "colab_type": "code",
        "colab": {
          "base_uri": "https://localhost:8080/",
          "height": 52
        },
        "outputId": "4630f153-4b92-4cae-dce5-50325605e2d1"
      },
      "cell_type": "code",
      "source": [
        "quo = a/b\n",
        "print(quo)"
      ],
      "execution_count": 20,
      "outputs": [
        {
          "output_type": "stream",
          "text": [
            "[[0. 0.]\n",
            " [0. 0.]]\n"
          ],
          "name": "stdout"
        }
      ]
    },
    {
      "metadata": {
        "id": "WMbsNycVgnLu",
        "colab_type": "code",
        "colab": {
          "base_uri": "https://localhost:8080/",
          "height": 218
        },
        "outputId": "b6ce4613-6a18-4866-b3a5-e19e04f79cae"
      },
      "cell_type": "code",
      "source": [
        "from numpy import random\n",
        "c = np.random.randit(10, size = (5))\n",
        "d = np.random.randit(10, size = (4))\n",
        "print(c)"
      ],
      "execution_count": 26,
      "outputs": [
        {
          "output_type": "error",
          "ename": "AttributeError",
          "evalue": "ignored",
          "traceback": [
            "\u001b[0;31m---------------------------------------------------------------------------\u001b[0m",
            "\u001b[0;31mAttributeError\u001b[0m                            Traceback (most recent call last)",
            "\u001b[0;32m<ipython-input-26-018f4c0d7cf1>\u001b[0m in \u001b[0;36m<module>\u001b[0;34m()\u001b[0m\n\u001b[1;32m      1\u001b[0m \u001b[0;32mfrom\u001b[0m \u001b[0mnumpy\u001b[0m \u001b[0;32mimport\u001b[0m \u001b[0mrandom\u001b[0m\u001b[0;34m\u001b[0m\u001b[0m\n\u001b[0;32m----> 2\u001b[0;31m \u001b[0mc\u001b[0m \u001b[0;34m=\u001b[0m \u001b[0mnp\u001b[0m\u001b[0;34m.\u001b[0m\u001b[0mrandom\u001b[0m\u001b[0;34m.\u001b[0m\u001b[0mrandit\u001b[0m\u001b[0;34m(\u001b[0m\u001b[0;36m10\u001b[0m\u001b[0;34m,\u001b[0m \u001b[0msize\u001b[0m \u001b[0;34m=\u001b[0m \u001b[0;34m(\u001b[0m\u001b[0;36m5\u001b[0m\u001b[0;34m)\u001b[0m\u001b[0;34m)\u001b[0m\u001b[0;34m\u001b[0m\u001b[0m\n\u001b[0m\u001b[1;32m      3\u001b[0m \u001b[0md\u001b[0m \u001b[0;34m=\u001b[0m \u001b[0mnp\u001b[0m\u001b[0;34m.\u001b[0m\u001b[0mrandom\u001b[0m\u001b[0;34m.\u001b[0m\u001b[0mrandit\u001b[0m\u001b[0;34m(\u001b[0m\u001b[0;36m10\u001b[0m\u001b[0;34m,\u001b[0m \u001b[0msize\u001b[0m \u001b[0;34m=\u001b[0m \u001b[0;34m(\u001b[0m\u001b[0;36m4\u001b[0m\u001b[0;34m)\u001b[0m\u001b[0;34m)\u001b[0m\u001b[0;34m\u001b[0m\u001b[0m\n\u001b[1;32m      4\u001b[0m \u001b[0mprint\u001b[0m\u001b[0;34m(\u001b[0m\u001b[0mc\u001b[0m\u001b[0;34m)\u001b[0m\u001b[0;34m\u001b[0m\u001b[0m\n",
            "\u001b[0;31mAttributeError\u001b[0m: module 'numpy.random' has no attribute 'randit'"
          ]
        }
      ]
    },
    {
      "metadata": {
        "id": "KrEW86H_ipBM",
        "colab_type": "code",
        "colab": {}
      },
      "cell_type": "code",
      "source": [
        ""
      ],
      "execution_count": 0,
      "outputs": []
    },
    {
      "metadata": {
        "id": "jW2ngw4-hfYf",
        "colab_type": "code",
        "colab": {
          "base_uri": "https://localhost:8080/",
          "height": 35
        },
        "outputId": "b3c51589-af8d-44e4-b4d7-d5eac1d43284"
      },
      "cell_type": "code",
      "source": [
        "x = np.array([1, 2, 3])\n",
        "y = np.array([4, 5, 6])\n",
        "np.add(x, y)\n"
      ],
      "execution_count": 27,
      "outputs": [
        {
          "output_type": "execute_result",
          "data": {
            "text/plain": [
              "array([5, 7, 9])"
            ]
          },
          "metadata": {
            "tags": []
          },
          "execution_count": 27
        }
      ]
    },
    {
      "metadata": {
        "id": "zCXTOB9ChsE6",
        "colab_type": "code",
        "colab": {
          "base_uri": "https://localhost:8080/",
          "height": 35
        },
        "outputId": "7f19a46f-b5ac-4e60-ff09-70e23f294cda"
      },
      "cell_type": "code",
      "source": [
        "np.divide(x,y)"
      ],
      "execution_count": 28,
      "outputs": [
        {
          "output_type": "execute_result",
          "data": {
            "text/plain": [
              "array([0.25, 0.4 , 0.5 ])"
            ]
          },
          "metadata": {
            "tags": []
          },
          "execution_count": 28
        }
      ]
    },
    {
      "metadata": {
        "id": "c-RG9MXRhww6",
        "colab_type": "code",
        "colab": {
          "base_uri": "https://localhost:8080/",
          "height": 35
        },
        "outputId": "28c1ad7e-b5bc-4eaa-99ed-74a14e662f3f"
      },
      "cell_type": "code",
      "source": [
        "np.subtract(x,y)"
      ],
      "execution_count": 29,
      "outputs": [
        {
          "output_type": "execute_result",
          "data": {
            "text/plain": [
              "array([-3, -3, -3])"
            ]
          },
          "metadata": {
            "tags": []
          },
          "execution_count": 29
        }
      ]
    },
    {
      "metadata": {
        "id": "mWmuHbQShzSU",
        "colab_type": "code",
        "colab": {
          "base_uri": "https://localhost:8080/",
          "height": 35
        },
        "outputId": "81c7ecc7-6f96-4a87-dac8-5ebaba2532e1"
      },
      "cell_type": "code",
      "source": [
        "np.multiply(x,y)"
      ],
      "execution_count": 30,
      "outputs": [
        {
          "output_type": "execute_result",
          "data": {
            "text/plain": [
              "array([ 4, 10, 18])"
            ]
          },
          "metadata": {
            "tags": []
          },
          "execution_count": 30
        }
      ]
    },
    {
      "metadata": {
        "id": "Yk5c8DGgh2bK",
        "colab_type": "code",
        "colab": {
          "base_uri": "https://localhost:8080/",
          "height": 35
        },
        "outputId": "e4adef40-0dd0-4925-f4e1-14f3e7302836"
      },
      "cell_type": "code",
      "source": [
        "np.dot(x,y)\n",
        "x.dot(y)\n",
        "y.dot(x)"
      ],
      "execution_count": 31,
      "outputs": [
        {
          "output_type": "execute_result",
          "data": {
            "text/plain": [
              "32"
            ]
          },
          "metadata": {
            "tags": []
          },
          "execution_count": 31
        }
      ]
    },
    {
      "metadata": {
        "id": "-8NxHAyDh-ov",
        "colab_type": "code",
        "colab": {
          "base_uri": "https://localhost:8080/",
          "height": 35
        },
        "outputId": "1e5d0dee-0379-4464-b82f-ab67ac373d29"
      },
      "cell_type": "code",
      "source": [
        "np.argmax(x)\n",
        "np.argmax(y)"
      ],
      "execution_count": 32,
      "outputs": [
        {
          "output_type": "execute_result",
          "data": {
            "text/plain": [
              "2"
            ]
          },
          "metadata": {
            "tags": []
          },
          "execution_count": 32
        }
      ]
    },
    {
      "metadata": {
        "id": "PmwWM5KTiD0R",
        "colab_type": "code",
        "colab": {
          "base_uri": "https://localhost:8080/",
          "height": 35
        },
        "outputId": "7010c9d0-b1f5-4139-f0e3-6aa43d9c2a69"
      },
      "cell_type": "code",
      "source": [
        "for number in x:\n",
        "  print(number, end=' ')"
      ],
      "execution_count": 33,
      "outputs": [
        {
          "output_type": "stream",
          "text": [
            "1 2 3 "
          ],
          "name": "stdout"
        }
      ]
    },
    {
      "metadata": {
        "id": "wbE_C6z7iMBg",
        "colab_type": "code",
        "colab": {
          "base_uri": "https://localhost:8080/",
          "height": 35
        },
        "outputId": "9b2ce5ca-00ba-4937-8ee0-6394715a159e"
      },
      "cell_type": "code",
      "source": [
        "print(x > y)"
      ],
      "execution_count": 34,
      "outputs": [
        {
          "output_type": "stream",
          "text": [
            "[False False False]\n"
          ],
          "name": "stdout"
        }
      ]
    },
    {
      "metadata": {
        "id": "Qp2vEEnciQZs",
        "colab_type": "code",
        "colab": {
          "base_uri": "https://localhost:8080/",
          "height": 35
        },
        "outputId": "dadcac06-9961-4355-9295-ef9842488ede"
      },
      "cell_type": "code",
      "source": [
        "print(x == y)"
      ],
      "execution_count": 35,
      "outputs": [
        {
          "output_type": "stream",
          "text": [
            "[False False False]\n"
          ],
          "name": "stdout"
        }
      ]
    },
    {
      "metadata": {
        "id": "a8o9bIiYiXUX",
        "colab_type": "code",
        "colab": {
          "base_uri": "https://localhost:8080/",
          "height": 35
        },
        "outputId": "5c213ae8-012a-4257-fd01-7fe93b4c1968"
      },
      "cell_type": "code",
      "source": [
        "print(np.equal(x,y))"
      ],
      "execution_count": 36,
      "outputs": [
        {
          "output_type": "stream",
          "text": [
            "[False False False]\n"
          ],
          "name": "stdout"
        }
      ]
    },
    {
      "metadata": {
        "id": "KjQQshYuirBb",
        "colab_type": "code",
        "colab": {
          "base_uri": "https://localhost:8080/",
          "height": 35
        },
        "outputId": "b6af6969-f401-4892-d1ad-8510b09c0966"
      },
      "cell_type": "code",
      "source": [
        "print(x.dtype)"
      ],
      "execution_count": 37,
      "outputs": [
        {
          "output_type": "stream",
          "text": [
            "int64\n"
          ],
          "name": "stdout"
        }
      ]
    },
    {
      "metadata": {
        "id": "9znus7dZizfM",
        "colab_type": "code",
        "colab": {
          "base_uri": "https://localhost:8080/",
          "height": 35
        },
        "outputId": "bc502d49-d86d-449d-d271-442aaa4b2e8e"
      },
      "cell_type": "code",
      "source": [
        "print(np.sqrt(x))"
      ],
      "execution_count": 38,
      "outputs": [
        {
          "output_type": "stream",
          "text": [
            "[1.         1.41421356 1.73205081]\n"
          ],
          "name": "stdout"
        }
      ]
    },
    {
      "metadata": {
        "id": "Sqq3szxsi6j1",
        "colab_type": "code",
        "colab": {
          "base_uri": "https://localhost:8080/",
          "height": 35
        },
        "outputId": "d43000b2-c04f-463e-e7d8-da81312625af"
      },
      "cell_type": "code",
      "source": [
        "print(np.sum(x))"
      ],
      "execution_count": 40,
      "outputs": [
        {
          "output_type": "stream",
          "text": [
            "6\n"
          ],
          "name": "stdout"
        }
      ]
    },
    {
      "metadata": {
        "id": "rHqtWeM6jFNe",
        "colab_type": "code",
        "colab": {
          "base_uri": "https://localhost:8080/",
          "height": 35
        },
        "outputId": "c3d3faf9-2761-4b41-a3e8-4416c380734d"
      },
      "cell_type": "code",
      "source": [
        "print(np.sum(x, axis=0))"
      ],
      "execution_count": 41,
      "outputs": [
        {
          "output_type": "stream",
          "text": [
            "6\n"
          ],
          "name": "stdout"
        }
      ]
    },
    {
      "metadata": {
        "id": "gZp4oI32jJdd",
        "colab_type": "code",
        "colab": {
          "base_uri": "https://localhost:8080/",
          "height": 35
        },
        "outputId": "12c1778e-3f48-4113-bdeb-5a9410d0ff65"
      },
      "cell_type": "code",
      "source": [
        "z = np.array([[1,2], [3,4]])\n",
        "\n",
        "print(np.sum(z, axis=1))"
      ],
      "execution_count": 43,
      "outputs": [
        {
          "output_type": "stream",
          "text": [
            "[3 7]\n"
          ],
          "name": "stdout"
        }
      ]
    },
    {
      "metadata": {
        "id": "BAczG7MhjaCy",
        "colab_type": "code",
        "colab": {
          "base_uri": "https://localhost:8080/",
          "height": 191
        },
        "outputId": "16d518de-2fba-4695-f4c4-ce9931bea5f3"
      },
      "cell_type": "code",
      "source": [
        "#--------------------------------------------------------EXERCISE------------------------------------------------------------------------\n",
        "A = np.array([[22, 5, 16, 9],[13, 20, 19, 0], [5, 9, 1, 16], [27, 13, 15, 19]])\n",
        "print('A = ', A)\n",
        "B = np.array([[10, 5, 20, 20], [5, 21, 22, 27], [26, 19, 22, 3], [27, 8, 18, 7]])\n",
        "print('B = ', B)\n",
        "C = np.array([24, 3, 17, 7, 11, 2, 21, 2, 24, 18, 3, 11, 14, 25, 2, 20])\n",
        "print('C = ', C)\n",
        "D = np.array([3, 15, 24, 22, 19, 24, 4, 29, 6, 3, 20, 1, 11, 25, 26, 6])\n",
        "print('D = ', D)\n"
      ],
      "execution_count": 116,
      "outputs": [
        {
          "output_type": "stream",
          "text": [
            "A =  [[22  5 16  9]\n",
            " [13 20 19  0]\n",
            " [ 5  9  1 16]\n",
            " [27 13 15 19]]\n",
            "B =  [[10  5 20 20]\n",
            " [ 5 21 22 27]\n",
            " [26 19 22  3]\n",
            " [27  8 18  7]]\n",
            "C =  [24  3 17  7 11  2 21  2 24 18  3 11 14 25  2 20]\n",
            "D =  [ 3 15 24 22 19 24  4 29  6  3 20  1 11 25 26  6]\n"
          ],
          "name": "stdout"
        }
      ]
    },
    {
      "metadata": {
        "id": "fTzHJnimLQQb",
        "colab_type": "code",
        "colab": {
          "base_uri": "https://localhost:8080/",
          "height": 87
        },
        "outputId": "54a6ee7c-74c5-4bd4-c152-76585551cd16"
      },
      "cell_type": "code",
      "source": [
        "\n",
        "#1.\n",
        "np.add(A,B)\n"
      ],
      "execution_count": 117,
      "outputs": [
        {
          "output_type": "execute_result",
          "data": {
            "text/plain": [
              "array([[32, 10, 36, 29],\n",
              "       [18, 41, 41, 27],\n",
              "       [31, 28, 23, 19],\n",
              "       [54, 21, 33, 26]])"
            ]
          },
          "metadata": {
            "tags": []
          },
          "execution_count": 117
        }
      ]
    },
    {
      "metadata": {
        "id": "TVth4JFBkvzU",
        "colab_type": "code",
        "colab": {
          "base_uri": "https://localhost:8080/",
          "height": 87
        },
        "outputId": "bc7384fc-8298-452a-e480-b3ab0e19a32d"
      },
      "cell_type": "code",
      "source": [
        "#2.\n",
        "np.subtract(A,B)\n"
      ],
      "execution_count": 110,
      "outputs": [
        {
          "output_type": "execute_result",
          "data": {
            "text/plain": [
              "array([[ 12,   0,  -4, -11],\n",
              "       [  8,  -1,  -3, -27],\n",
              "       [-21, -10, -21,  13],\n",
              "       [  0,   5,  -3,  12]])"
            ]
          },
          "metadata": {
            "tags": []
          },
          "execution_count": 110
        }
      ]
    },
    {
      "metadata": {
        "id": "XdzLLTa1ob6s",
        "colab_type": "code",
        "colab": {
          "base_uri": "https://localhost:8080/",
          "height": 87
        },
        "outputId": "db5eb6e5-d6e2-4dcd-f5f5-ff2f2711e576"
      },
      "cell_type": "code",
      "source": [
        "#3.\n",
        "np.multiply(A,B)\n"
      ],
      "execution_count": 111,
      "outputs": [
        {
          "output_type": "execute_result",
          "data": {
            "text/plain": [
              "array([[220,  25, 320, 180],\n",
              "       [ 65, 420, 418,   0],\n",
              "       [130, 171,  22,  48],\n",
              "       [729, 104, 270, 133]])"
            ]
          },
          "metadata": {
            "tags": []
          },
          "execution_count": 111
        }
      ]
    },
    {
      "metadata": {
        "id": "OSnF27phodsz",
        "colab_type": "code",
        "colab": {
          "base_uri": "https://localhost:8080/",
          "height": 87
        },
        "outputId": "2ba8771b-1ac8-4a37-a2e9-e968631f3b75"
      },
      "cell_type": "code",
      "source": [
        "#4.\n",
        "np.matmul(A,B)"
      ],
      "execution_count": 112,
      "outputs": [
        {
          "output_type": "execute_result",
          "data": {
            "text/plain": [
              "array([[ 904,  591, 1064,  686],\n",
              "       [ 724,  846, 1118,  857],\n",
              "       [ 553,  361,  608,  458],\n",
              "       [1238,  845, 1498, 1069]])"
            ]
          },
          "metadata": {
            "tags": []
          },
          "execution_count": 112
        }
      ]
    },
    {
      "metadata": {
        "id": "fRgMMaw-ogoC",
        "colab_type": "code",
        "colab": {
          "base_uri": "https://localhost:8080/",
          "height": 35
        },
        "outputId": "bea4365a-a161-4d38-c16a-7ce0dde66bdc"
      },
      "cell_type": "code",
      "source": [
        "#5.\n",
        "cdSum = C + D\n",
        "print(cdSum)"
      ],
      "execution_count": 98,
      "outputs": [
        {
          "output_type": "stream",
          "text": [
            "[27 18 41 29 30 26 25 31 30 21 23 12 25 50 28 26]\n"
          ],
          "name": "stdout"
        }
      ]
    },
    {
      "metadata": {
        "id": "JL640qmeovln",
        "colab_type": "code",
        "colab": {
          "base_uri": "https://localhost:8080/",
          "height": 35
        },
        "outputId": "f50a9cc0-73b1-4024-c3d9-ab1d5c2b4abf"
      },
      "cell_type": "code",
      "source": [
        "#6\n",
        "cdSub = C - D\n",
        "print(cdSub)"
      ],
      "execution_count": 97,
      "outputs": [
        {
          "output_type": "stream",
          "text": [
            "[ 21 -12  -7 -15  -8 -22  17 -27  18  15 -17  10   3   0 -24  14]\n"
          ],
          "name": "stdout"
        }
      ]
    },
    {
      "metadata": {
        "id": "b89HyOXnpfQn",
        "colab_type": "code",
        "colab": {
          "base_uri": "https://localhost:8080/",
          "height": 35
        },
        "outputId": "ac1ab068-df8e-4c83-f44c-d6af14b05f09"
      },
      "cell_type": "code",
      "source": [
        "#7\n",
        "cdProd = C * D\n",
        "print(cdProd)"
      ],
      "execution_count": 99,
      "outputs": [
        {
          "output_type": "stream",
          "text": [
            "[ 72  45 408 154 209  48  84  58 144  54  60  11 154 625  52 120]\n"
          ],
          "name": "stdout"
        }
      ]
    },
    {
      "metadata": {
        "id": "h3l08Siiqv8V",
        "colab_type": "code",
        "colab": {
          "base_uri": "https://localhost:8080/",
          "height": 35
        },
        "outputId": "b2859ab7-cf44-44d6-abd4-36fbf226582b"
      },
      "cell_type": "code",
      "source": [
        "#8\n",
        "cdDot = np.dot(C,D)\n",
        "print(cdDot)\n",
        "\n",
        "  "
      ],
      "execution_count": 114,
      "outputs": [
        {
          "output_type": "stream",
          "text": [
            "2298\n"
          ],
          "name": "stdout"
        }
      ]
    },
    {
      "metadata": {
        "id": "x4xi9HT_odqz",
        "colab_type": "code",
        "colab": {
          "base_uri": "https://localhost:8080/",
          "height": 87
        },
        "outputId": "87834bda-2130-45b2-899d-943d5b94ba0b"
      },
      "cell_type": "code",
      "source": [
        "#9\n",
        "aPlus = A + 10\n",
        "print(aPlus)"
      ],
      "execution_count": 101,
      "outputs": [
        {
          "output_type": "stream",
          "text": [
            "[[32 15 26 19]\n",
            " [23 30 29 10]\n",
            " [15 19 11 26]\n",
            " [37 23 25 29]]\n"
          ],
          "name": "stdout"
        }
      ]
    },
    {
      "metadata": {
        "id": "ZXbIjrnlyR2z",
        "colab_type": "code",
        "colab": {
          "base_uri": "https://localhost:8080/",
          "height": 87
        },
        "outputId": "77a057c3-cc80-4703-82e4-057786f6df48"
      },
      "cell_type": "code",
      "source": [
        "#10\n",
        "bPlus = B + 10\n",
        "print(bPlus)"
      ],
      "execution_count": 102,
      "outputs": [
        {
          "output_type": "stream",
          "text": [
            "[[20 15 30 30]\n",
            " [15 31 32 37]\n",
            " [36 29 32 13]\n",
            " [37 18 28 17]]\n"
          ],
          "name": "stdout"
        }
      ]
    },
    {
      "metadata": {
        "id": "P-jcZkUByX8n",
        "colab_type": "code",
        "colab": {
          "base_uri": "https://localhost:8080/",
          "height": 35
        },
        "outputId": "aba274d9-daf9-475f-e92b-39b939069c7c"
      },
      "cell_type": "code",
      "source": [
        "#11\n",
        "cPlus = C + 15\n",
        "print(cPlus)"
      ],
      "execution_count": 104,
      "outputs": [
        {
          "output_type": "stream",
          "text": [
            "[39 18 32 22 26 17 36 17 39 33 18 26 29 40 17 35]\n"
          ],
          "name": "stdout"
        }
      ]
    },
    {
      "metadata": {
        "id": "JsYLayNeyc8N",
        "colab_type": "code",
        "colab": {
          "base_uri": "https://localhost:8080/",
          "height": 35
        },
        "outputId": "49546779-027c-4e2e-c023-07f6c0bf71c9"
      },
      "cell_type": "code",
      "source": [
        "#12\n",
        "dPlus = D + 15\n",
        "print(dPlus)"
      ],
      "execution_count": 105,
      "outputs": [
        {
          "output_type": "stream",
          "text": [
            "[18 30 39 37 34 39 19 44 21 18 35 16 26 40 41 21]\n"
          ],
          "name": "stdout"
        }
      ]
    },
    {
      "metadata": {
        "id": "a7_PbmaFkO7G",
        "colab_type": "code",
        "colab": {
          "base_uri": "https://localhost:8080/",
          "height": 87
        },
        "outputId": "dce57178-c0c2-4010-88b6-65c8164f9ea2"
      },
      "cell_type": "code",
      "source": [
        "#13\n",
        "e = (2 * A) + (2 * B)\n",
        "print(e)"
      ],
      "execution_count": 106,
      "outputs": [
        {
          "output_type": "stream",
          "text": [
            "[[ 64  20  72  58]\n",
            " [ 36  82  82  54]\n",
            " [ 62  56  46  38]\n",
            " [108  42  66  52]]\n"
          ],
          "name": "stdout"
        }
      ]
    },
    {
      "metadata": {
        "id": "QwmIOXdvyw0o",
        "colab_type": "code",
        "colab": {
          "base_uri": "https://localhost:8080/",
          "height": 87
        },
        "outputId": "745eaa78-c880-43a7-f0a2-b708c5380134"
      },
      "cell_type": "code",
      "source": [
        "#14\n",
        "f = (A + B) * 3\n",
        "print(f)"
      ],
      "execution_count": 107,
      "outputs": [
        {
          "output_type": "stream",
          "text": [
            "[[ 96  30 108  87]\n",
            " [ 54 123 123  81]\n",
            " [ 93  84  69  57]\n",
            " [162  63  99  78]]\n"
          ],
          "name": "stdout"
        }
      ]
    },
    {
      "metadata": {
        "id": "rh-bmi8Byxxp",
        "colab_type": "code",
        "colab": {
          "base_uri": "https://localhost:8080/",
          "height": 87
        },
        "outputId": "126e2384-4c15-4405-f088-decfb3757de3"
      },
      "cell_type": "code",
      "source": [
        "#15\n",
        "g = (A - B + A - B + B) * 4\n",
        "print(g)"
      ],
      "execution_count": 108,
      "outputs": [
        {
          "output_type": "stream",
          "text": [
            "[[ 136   20   48   -8]\n",
            " [  84   76   64 -108]\n",
            " [ -64   -4  -80  116]\n",
            " [ 108   72   48  124]]\n"
          ],
          "name": "stdout"
        }
      ]
    },
    {
      "metadata": {
        "id": "Wx7gB4Lqyy31",
        "colab_type": "code",
        "colab": {}
      },
      "cell_type": "code",
      "source": [
        "#-----------------------------------ENd EXERCISE-----------------------------------"
      ],
      "execution_count": 0,
      "outputs": []
    },
    {
      "metadata": {
        "id": "1t7_ZTFxyzfS",
        "colab_type": "code",
        "colab": {}
      },
      "cell_type": "code",
      "source": [
        ""
      ],
      "execution_count": 0,
      "outputs": []
    }
  ]
}